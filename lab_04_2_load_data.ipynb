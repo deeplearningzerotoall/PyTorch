{
  "nbformat": 4,
  "nbformat_minor": 0,
  "metadata": {
    "kernelspec": {
      "display_name": "Python 3",
      "language": "python",
      "name": "python3"
    },
    "language_info": {
      "codemirror_mode": {
        "name": "ipython",
        "version": 3
      },
      "file_extension": ".py",
      "mimetype": "text/x-python",
      "name": "python",
      "nbconvert_exporter": "python",
      "pygments_lexer": "ipython3",
      "version": "3.7.0"
    },
    "colab": {
      "name": "lab-04_2_load_data.ipynb",
      "provenance": [],
      "toc_visible": true
    }
  },
  "cells": [
    {
      "cell_type": "markdown",
      "metadata": {
        "id": "rmbRRxMKCadD"
      },
      "source": [
        "# Lab 4-2: Load Data"
      ]
    },
    {
      "cell_type": "markdown",
      "metadata": {
        "id": "bL3hF34BCadD"
      },
      "source": [
        "Author: Seungjae Lee (이승재)"
      ]
    },
    {
      "cell_type": "markdown",
      "metadata": {
        "id": "FqD6JQcOCadE"
      },
      "source": [
        "<div class=\"alert alert-warning\">\n",
        "    We use elemental PyTorch to implement linear regression here. However, in most actual applications, abstractions such as <code>nn.Module</code> or <code>nn.Linear</code> are used.\n",
        "</div>"
      ]
    },
    {
      "cell_type": "markdown",
      "metadata": {
        "id": "ZP_ZQAIACadE"
      },
      "source": [
        "## Slicing 1D Array"
      ]
    },
    {
      "cell_type": "code",
      "metadata": {
        "id": "6p9lDtUgCadE"
      },
      "source": [
        "nums = [0, 1, 2, 3, 4]"
      ],
      "execution_count": 1,
      "outputs": []
    },
    {
      "cell_type": "code",
      "metadata": {
        "colab": {
          "base_uri": "https://localhost:8080/"
        },
        "id": "X8jJqo04CadE",
        "outputId": "b4a06bb3-80d4-43de-b604-77e8fc0d7c0f"
      },
      "source": [
        "print(nums)"
      ],
      "execution_count": 2,
      "outputs": [
        {
          "output_type": "stream",
          "text": [
            "[0, 1, 2, 3, 4]\n"
          ],
          "name": "stdout"
        }
      ]
    },
    {
      "cell_type": "markdown",
      "metadata": {
        "id": "f1PomC36CadE"
      },
      "source": [
        "index 2에서 4 전까지 가져와라. (앞 포함, 뒤 비포함)"
      ]
    },
    {
      "cell_type": "code",
      "metadata": {
        "colab": {
          "base_uri": "https://localhost:8080/"
        },
        "id": "d2POsLsTCadE",
        "outputId": "77fc2775-7901-4835-a3de-f6f4a0377d99"
      },
      "source": [
        "print(nums[2:4])"
      ],
      "execution_count": 3,
      "outputs": [
        {
          "output_type": "stream",
          "text": [
            "[2, 3]\n"
          ],
          "name": "stdout"
        }
      ]
    },
    {
      "cell_type": "markdown",
      "metadata": {
        "id": "AVnI5qCGCadE"
      },
      "source": [
        "index 2부터 다 가져와라."
      ]
    },
    {
      "cell_type": "code",
      "metadata": {
        "colab": {
          "base_uri": "https://localhost:8080/"
        },
        "id": "bTRHa5rMCadE",
        "outputId": "1f15ff5f-22c0-4070-8edb-b65d57243974"
      },
      "source": [
        "print(nums[2:])"
      ],
      "execution_count": 4,
      "outputs": [
        {
          "output_type": "stream",
          "text": [
            "[2, 3, 4]\n"
          ],
          "name": "stdout"
        }
      ]
    },
    {
      "cell_type": "markdown",
      "metadata": {
        "id": "inTilKajCadE"
      },
      "source": [
        "index 2 전까지 가져와라. (역시 뒤는 비포함)"
      ]
    },
    {
      "cell_type": "code",
      "metadata": {
        "colab": {
          "base_uri": "https://localhost:8080/"
        },
        "id": "yJxiKmRiCadE",
        "outputId": "f76fcb52-48c7-4960-9b49-de036339e9f8"
      },
      "source": [
        "print(nums[:2])"
      ],
      "execution_count": 5,
      "outputs": [
        {
          "output_type": "stream",
          "text": [
            "[0, 1]\n"
          ],
          "name": "stdout"
        }
      ]
    },
    {
      "cell_type": "markdown",
      "metadata": {
        "id": "VgQuR-WWCadE"
      },
      "source": [
        "전부 가져와라"
      ]
    },
    {
      "cell_type": "code",
      "metadata": {
        "colab": {
          "base_uri": "https://localhost:8080/"
        },
        "id": "HaVcg8d_CadE",
        "outputId": "e5c54663-aee0-4e91-c78b-a0ccd70c3e2c"
      },
      "source": [
        "print(nums[:])"
      ],
      "execution_count": 6,
      "outputs": [
        {
          "output_type": "stream",
          "text": [
            "[0, 1, 2, 3, 4]\n"
          ],
          "name": "stdout"
        }
      ]
    },
    {
      "cell_type": "markdown",
      "metadata": {
        "id": "4XXW5X3UCadF"
      },
      "source": [
        "마지막 index 전까지 가져와라. (뒤는 비포함!)"
      ]
    },
    {
      "cell_type": "code",
      "metadata": {
        "colab": {
          "base_uri": "https://localhost:8080/"
        },
        "id": "5GLQvbShCadF",
        "outputId": "2ec0ab72-8113-4d6e-ecf6-132e19d2ff37"
      },
      "source": [
        "print(nums[:-1])"
      ],
      "execution_count": 7,
      "outputs": [
        {
          "output_type": "stream",
          "text": [
            "[0, 1, 2, 3]\n"
          ],
          "name": "stdout"
        }
      ]
    },
    {
      "cell_type": "markdown",
      "metadata": {
        "id": "g8_2tbBhCadF"
      },
      "source": [
        "assign 도 가능!"
      ]
    },
    {
      "cell_type": "code",
      "metadata": {
        "id": "hXkRt5LFCadF"
      },
      "source": [
        "nums[2:4] = [8, 9]"
      ],
      "execution_count": 8,
      "outputs": []
    },
    {
      "cell_type": "code",
      "metadata": {
        "colab": {
          "base_uri": "https://localhost:8080/"
        },
        "id": "CPxAvLpzCadF",
        "outputId": "d9691863-00e7-4624-f078-2cc1d6f1a267"
      },
      "source": [
        "print(nums)"
      ],
      "execution_count": 9,
      "outputs": [
        {
          "output_type": "stream",
          "text": [
            "[0, 1, 8, 9, 4]\n"
          ],
          "name": "stdout"
        }
      ]
    },
    {
      "cell_type": "markdown",
      "metadata": {
        "id": "N6KdmL--CadF"
      },
      "source": [
        "## Slicing 2D Array"
      ]
    },
    {
      "cell_type": "code",
      "metadata": {
        "id": "iAuXdZsYCadF"
      },
      "source": [
        "import numpy as np"
      ],
      "execution_count": 10,
      "outputs": []
    },
    {
      "cell_type": "code",
      "metadata": {
        "id": "CSjQR74BCadF"
      },
      "source": [
        "b = np.array([[1, 2, 3, 4], [5, 6, 7, 8], [9, 10, 11, 12]])"
      ],
      "execution_count": 11,
      "outputs": []
    },
    {
      "cell_type": "code",
      "metadata": {
        "colab": {
          "base_uri": "https://localhost:8080/"
        },
        "id": "38q2emVpCadF",
        "outputId": "138ca096-9020-442b-cb0e-1d0ed03be68a"
      },
      "source": [
        "print(b)"
      ],
      "execution_count": 12,
      "outputs": [
        {
          "output_type": "stream",
          "text": [
            "[[ 1  2  3  4]\n",
            " [ 5  6  7  8]\n",
            " [ 9 10 11 12]]\n"
          ],
          "name": "stdout"
        }
      ]
    },
    {
      "cell_type": "code",
      "metadata": {
        "colab": {
          "base_uri": "https://localhost:8080/"
        },
        "id": "FxZs12JRCadF",
        "outputId": "5d0765ac-54e7-4796-fbd1-ecdef917f62e"
      },
      "source": [
        "b[:, 1]"
      ],
      "execution_count": 13,
      "outputs": [
        {
          "output_type": "execute_result",
          "data": {
            "text/plain": [
              "array([ 2,  6, 10])"
            ]
          },
          "metadata": {
            "tags": []
          },
          "execution_count": 13
        }
      ]
    },
    {
      "cell_type": "code",
      "metadata": {
        "colab": {
          "base_uri": "https://localhost:8080/"
        },
        "id": "ooM2jSPlCadF",
        "outputId": "48e7894b-f7b0-41ef-e665-7154b0cf7765"
      },
      "source": [
        "b[-1]"
      ],
      "execution_count": 14,
      "outputs": [
        {
          "output_type": "execute_result",
          "data": {
            "text/plain": [
              "array([ 9, 10, 11, 12])"
            ]
          },
          "metadata": {
            "tags": []
          },
          "execution_count": 14
        }
      ]
    },
    {
      "cell_type": "code",
      "metadata": {
        "colab": {
          "base_uri": "https://localhost:8080/"
        },
        "id": "a9tfgR0rCadF",
        "outputId": "9f1cdfd1-d6e6-497e-efbb-d4911cb21403"
      },
      "source": [
        "b[-1, :]"
      ],
      "execution_count": 15,
      "outputs": [
        {
          "output_type": "execute_result",
          "data": {
            "text/plain": [
              "array([ 9, 10, 11, 12])"
            ]
          },
          "metadata": {
            "tags": []
          },
          "execution_count": 15
        }
      ]
    },
    {
      "cell_type": "code",
      "metadata": {
        "colab": {
          "base_uri": "https://localhost:8080/"
        },
        "id": "DcYuK1fjCadF",
        "outputId": "0799e5af-e26f-4705-8454-016f8037846b"
      },
      "source": [
        "b[-1, ...]"
      ],
      "execution_count": 16,
      "outputs": [
        {
          "output_type": "execute_result",
          "data": {
            "text/plain": [
              "array([ 9, 10, 11, 12])"
            ]
          },
          "metadata": {
            "tags": []
          },
          "execution_count": 16
        }
      ]
    },
    {
      "cell_type": "code",
      "metadata": {
        "colab": {
          "base_uri": "https://localhost:8080/"
        },
        "id": "-mkrzt9_CadF",
        "outputId": "d855e6a2-7144-4007-bfc9-a02d6e4221c3"
      },
      "source": [
        "b[0:2, :]"
      ],
      "execution_count": 17,
      "outputs": [
        {
          "output_type": "execute_result",
          "data": {
            "text/plain": [
              "array([[1, 2, 3, 4],\n",
              "       [5, 6, 7, 8]])"
            ]
          },
          "metadata": {
            "tags": []
          },
          "execution_count": 17
        }
      ]
    },
    {
      "cell_type": "markdown",
      "metadata": {
        "id": "cJidfLOgCadF"
      },
      "source": [
        "## Loading Data from `.csv` file"
      ]
    },
    {
      "cell_type": "code",
      "metadata": {
        "id": "qS4TWP-hCadF"
      },
      "source": [
        "import numpy as np"
      ],
      "execution_count": 18,
      "outputs": []
    },
    {
      "cell_type": "code",
      "metadata": {
        "id": "Q7JLfY6UCadF"
      },
      "source": [
        "xy = np.loadtxt('data-01-test-score.csv', delimiter=',', dtype=np.float32)"
      ],
      "execution_count": 19,
      "outputs": []
    },
    {
      "cell_type": "code",
      "metadata": {
        "id": "raRbvdvyCadF"
      },
      "source": [
        "x_data = xy[:, 0:-1]\n",
        "y_data = xy[:, [-1]]"
      ],
      "execution_count": 20,
      "outputs": []
    },
    {
      "cell_type": "code",
      "metadata": {
        "colab": {
          "base_uri": "https://localhost:8080/"
        },
        "id": "owP1uyBFCadF",
        "outputId": "37bde0e3-cf0f-4c80-9504-6c755f255f54"
      },
      "source": [
        "print(x_data.shape) # x_data shape\n",
        "print(len(x_data))  # x_data 길이\n",
        "print(x_data[:5])   # 첫 다섯 개"
      ],
      "execution_count": 21,
      "outputs": [
        {
          "output_type": "stream",
          "text": [
            "(25, 3)\n",
            "25\n",
            "[[ 73.  80.  75.]\n",
            " [ 93.  88.  93.]\n",
            " [ 89.  91.  90.]\n",
            " [ 96.  98. 100.]\n",
            " [ 73.  66.  70.]]\n"
          ],
          "name": "stdout"
        }
      ]
    },
    {
      "cell_type": "code",
      "metadata": {
        "colab": {
          "base_uri": "https://localhost:8080/"
        },
        "id": "-oypVy2LCadF",
        "outputId": "40672cda-d2f1-4cab-bf3e-7196260f5acd"
      },
      "source": [
        "print(y_data.shape) # y_data shape\n",
        "print(len(y_data))  # y_data 길이\n",
        "print(y_data[:5])   # 첫 다섯 개"
      ],
      "execution_count": 22,
      "outputs": [
        {
          "output_type": "stream",
          "text": [
            "(25, 1)\n",
            "25\n",
            "[[152.]\n",
            " [185.]\n",
            " [180.]\n",
            " [196.]\n",
            " [142.]]\n"
          ],
          "name": "stdout"
        }
      ]
    },
    {
      "cell_type": "markdown",
      "metadata": {
        "id": "rP_BjHm6CadF"
      },
      "source": [
        "## Imports"
      ]
    },
    {
      "cell_type": "code",
      "metadata": {
        "id": "f0OACSmRCadF"
      },
      "source": [
        "import torch\n",
        "import torch.nn as nn\n",
        "import torch.nn.functional as F\n",
        "import torch.optim as optim"
      ],
      "execution_count": 23,
      "outputs": []
    },
    {
      "cell_type": "code",
      "metadata": {
        "colab": {
          "base_uri": "https://localhost:8080/"
        },
        "id": "CQ63U6s7CadF",
        "outputId": "2887f7e1-35b6-4441-c3d0-83db2e2f3d30"
      },
      "source": [
        "# For reproducibility\n",
        "torch.manual_seed(1)"
      ],
      "execution_count": 24,
      "outputs": [
        {
          "output_type": "execute_result",
          "data": {
            "text/plain": [
              "<torch._C.Generator at 0x7efbf4c06b70>"
            ]
          },
          "metadata": {
            "tags": []
          },
          "execution_count": 24
        }
      ]
    },
    {
      "cell_type": "markdown",
      "metadata": {
        "id": "XBlYsW6uCadG"
      },
      "source": [
        "## Low-level Implementation"
      ]
    },
    {
      "cell_type": "code",
      "metadata": {
        "colab": {
          "base_uri": "https://localhost:8080/"
        },
        "id": "tplDNAiKCadG",
        "outputId": "063d650b-2492-4e49-e8d1-cbbccbcc76f9"
      },
      "source": [
        "# 데이터\n",
        "x_train = torch.FloatTensor(x_data)\n",
        "y_train = torch.FloatTensor(y_data)\n",
        "# 모델 초기화\n",
        "W = torch.zeros((3, 1), requires_grad=True)\n",
        "b = torch.zeros(1, requires_grad=True)\n",
        "# optimizer 설정\n",
        "optimizer = optim.SGD([W, b], lr=1e-5)\n",
        "\n",
        "nb_epochs = 20\n",
        "for epoch in range(nb_epochs + 1):\n",
        "    \n",
        "    # H(x) 계산\n",
        "    hypothesis = x_train.matmul(W) + b # or .mm or @\n",
        "\n",
        "    # cost 계산\n",
        "    cost = torch.mean((hypothesis - y_train) ** 2)\n",
        "\n",
        "    # cost로 H(x) 개선\n",
        "    optimizer.zero_grad()\n",
        "    cost.backward()\n",
        "    optimizer.step()\n",
        "\n",
        "    # 100번마다 로그 출력\n",
        "    print('Epoch {:4d}/{} Cost: {:.6f}'.format(\n",
        "        epoch, nb_epochs, cost.item()\n",
        "    ))"
      ],
      "execution_count": 25,
      "outputs": [
        {
          "output_type": "stream",
          "text": [
            "Epoch    0/20 Cost: 26811.960938\n",
            "Epoch    1/20 Cost: 9920.530273\n",
            "Epoch    2/20 Cost: 3675.298340\n",
            "Epoch    3/20 Cost: 1366.260498\n",
            "Epoch    4/20 Cost: 512.542480\n",
            "Epoch    5/20 Cost: 196.896637\n",
            "Epoch    6/20 Cost: 80.190987\n",
            "Epoch    7/20 Cost: 37.038696\n",
            "Epoch    8/20 Cost: 21.081343\n",
            "Epoch    9/20 Cost: 15.178760\n",
            "Epoch   10/20 Cost: 12.993679\n",
            "Epoch   11/20 Cost: 12.183023\n",
            "Epoch   12/20 Cost: 11.880535\n",
            "Epoch   13/20 Cost: 11.765958\n",
            "Epoch   14/20 Cost: 11.720851\n",
            "Epoch   15/20 Cost: 11.701438\n",
            "Epoch   16/20 Cost: 11.691514\n",
            "Epoch   17/20 Cost: 11.685116\n",
            "Epoch   18/20 Cost: 11.680005\n",
            "Epoch   19/20 Cost: 11.675380\n",
            "Epoch   20/20 Cost: 11.670952\n"
          ],
          "name": "stdout"
        }
      ]
    },
    {
      "cell_type": "markdown",
      "metadata": {
        "id": "s3sKHYOxCadG"
      },
      "source": [
        "## High-level Implementation with `nn.Module`"
      ]
    },
    {
      "cell_type": "code",
      "metadata": {
        "id": "p0wqk25JCadG"
      },
      "source": [
        "class MultivariateLinearRegressionModel(nn.Module):\n",
        "    def __init__(self):\n",
        "        super().__init__()\n",
        "        self.linear = nn.Linear(3, 1)\n",
        "\n",
        "    def forward(self, x):\n",
        "        return self.linear(x)"
      ],
      "execution_count": 26,
      "outputs": []
    },
    {
      "cell_type": "code",
      "metadata": {
        "colab": {
          "base_uri": "https://localhost:8080/"
        },
        "id": "zpoBT8AhCadG",
        "outputId": "ee7bb5fe-4133-4fa4-87aa-85c8adb21888"
      },
      "source": [
        "# 데이터\n",
        "x_train = torch.FloatTensor(x_data)\n",
        "y_train = torch.FloatTensor(y_data)\n",
        "# 모델 초기화\n",
        "model = MultivariateLinearRegressionModel()\n",
        "# optimizer 설정\n",
        "optimizer = optim.SGD(model.parameters(), lr=1e-5)\n",
        "\n",
        "nb_epochs = 20\n",
        "for epoch in range(nb_epochs+1):\n",
        "    \n",
        "    # H(x) 계산\n",
        "    prediction = model(x_train)\n",
        "    \n",
        "    # cost 계산\n",
        "    cost = F.mse_loss(prediction, y_train)\n",
        "    \n",
        "    # cost로 H(x) 개선\n",
        "    optimizer.zero_grad()\n",
        "    cost.backward()\n",
        "    optimizer.step()\n",
        "    \n",
        "    # 20번마다 로그 출력\n",
        "    print('Epoch {:4d}/{} Cost: {:.6f}'.format(\n",
        "        epoch, nb_epochs, cost.item()\n",
        "    ))"
      ],
      "execution_count": 27,
      "outputs": [
        {
          "output_type": "stream",
          "text": [
            "Epoch    0/20 Cost: 28693.490234\n",
            "Epoch    1/20 Cost: 10618.750000\n",
            "Epoch    2/20 Cost: 3936.015381\n",
            "Epoch    3/20 Cost: 1465.219727\n",
            "Epoch    4/20 Cost: 551.693726\n",
            "Epoch    5/20 Cost: 213.934616\n",
            "Epoch    6/20 Cost: 89.052269\n",
            "Epoch    7/20 Cost: 42.876007\n",
            "Epoch    8/20 Cost: 25.799639\n",
            "Epoch    9/20 Cost: 19.482420\n",
            "Epoch   10/20 Cost: 17.143093\n",
            "Epoch   11/20 Cost: 16.274508\n",
            "Epoch   12/20 Cost: 15.949721\n",
            "Epoch   13/20 Cost: 15.825986\n",
            "Epoch   14/20 Cost: 15.776565\n",
            "Epoch   15/20 Cost: 15.754660\n",
            "Epoch   16/20 Cost: 15.742919\n",
            "Epoch   17/20 Cost: 15.734917\n",
            "Epoch   18/20 Cost: 15.728307\n",
            "Epoch   19/20 Cost: 15.722219\n",
            "Epoch   20/20 Cost: 15.716357\n"
          ],
          "name": "stdout"
        }
      ]
    },
    {
      "cell_type": "markdown",
      "metadata": {
        "id": "9VfUk8RxCadG"
      },
      "source": [
        "## Dataset and DataLoader"
      ]
    },
    {
      "cell_type": "markdown",
      "metadata": {
        "id": "qEgk4X2-CadG"
      },
      "source": [
        "<div class=\"alert alert-warning\">\n",
        "    pandas 기초지식이 필요할 것 같다\n",
        "</div>"
      ]
    },
    {
      "cell_type": "markdown",
      "metadata": {
        "id": "LU2fxNDPCadG"
      },
      "source": [
        "너무 데이터가 크면 `x_data`, `y_data` 를 전부 다 가져오지 말고, 필요한 배치만 가져올 수 밖에 없다."
      ]
    },
    {
      "cell_type": "markdown",
      "metadata": {
        "id": "Icto_pfTCadG"
      },
      "source": [
        "[PyTorch Data Loading and Processing tutorial](https://pytorch.org/tutorials/beginner/data_loading_tutorial.html#iterating-through-the-dataset)"
      ]
    },
    {
      "cell_type": "code",
      "metadata": {
        "id": "rdFvC4DbCdh3"
      },
      "source": [
        "# Dataset and DataLoader\n",
        "from torch.utils.data import Dataset\n",
        "\n",
        "class CustomDataset(Dataset):\n",
        "    def __init__(self):\n",
        "        self.x_data = [[73, 80, 75],\n",
        "                       [93, 88, 93],\n",
        "                       [89, 91, 90],\n",
        "                       [96, 98, 100],\n",
        "                       [73, 66, 70]]\n",
        "        self.y_data = [[152], [185], [180], [196], [142]]\n",
        "    def __len__(self):\n",
        "        return len(self.x_data)\n",
        "    def __getitem__(self, idx):\n",
        "        x = torch.FloatTensor(self.x_data[idx])\n",
        "        y = torch.FloatTensor(self.y_data[idx])\n",
        "        return x, y"
      ],
      "execution_count": 28,
      "outputs": []
    },
    {
      "cell_type": "code",
      "metadata": {
        "colab": {
          "base_uri": "https://localhost:8080/"
        },
        "id": "MOJSb03kCdks",
        "outputId": "d47384fc-9e2f-4e52-bdfd-1df8c129640d"
      },
      "source": [
        "from torch.utils.data import DataLoader\n",
        "\n",
        "dataset =  CustomDataset()\n",
        "print('dataset length: ', len(dataset))\n",
        "\n",
        "p_batch_size = 2\n",
        "dataloader = DataLoader(\n",
        "    dataset,\n",
        "    batch_size = p_batch_size,\n",
        "    shuffle = True\n",
        ")\n",
        "print('dataloader length: ', len(dataloader))"
      ],
      "execution_count": 30,
      "outputs": [
        {
          "output_type": "stream",
          "text": [
            "dataset length:  5\n",
            "dataloader length:  3\n"
          ],
          "name": "stdout"
        }
      ]
    },
    {
      "cell_type": "code",
      "metadata": {
        "colab": {
          "base_uri": "https://localhost:8080/"
        },
        "id": "kmXoTLS4Csvc",
        "outputId": "a5248034-5852-4476-a160-b127775cb950"
      },
      "source": [
        "# 모델 초기화\n",
        "model = MultivariateLinearRegressionModel()\n",
        "# optimizer 설정\n",
        "optimizer = optim.SGD(model.parameters(), lr=1e-5)\n",
        "\n",
        "nb_epochs = 20\n",
        "for epoch in range(nb_epochs + 1) :\n",
        "    for batch_idx, samples in enumerate(dataloader):\n",
        "        x_train, y_train = samples\n",
        "\n",
        "        # H(x) 계산\n",
        "        prediction = model(x_train)\n",
        "\n",
        "        # cost 계산\n",
        "        cost = F.mse_loss(prediction, y_train)\n",
        "\n",
        "        # cost로 H(x) 업데이트\n",
        "        optimizer.zero_grad()\n",
        "        cost.backward()\n",
        "        optimizer.step()\n",
        "\n",
        "        result_pred_y = 0, 0\n",
        "        if p_batch_size < 2: result_pred_y = int(prediction.squeeze().detach()), int(y_train.squeeze().detach())\n",
        "        else: result_pred_y = prediction.squeeze().detach(), y_train.squeeze().detach()\n",
        "            \n",
        "        print('Epoch {:4d}/{} Batch {}/{} Cost: {:.6f} pred/y: {}'.format(\n",
        "            epoch, nb_epochs, batch_idx+1, len(dataloader), cost.item(),\n",
        "            result_pred_y\n",
        "        ))"
      ],
      "execution_count": 31,
      "outputs": [
        {
          "output_type": "stream",
          "text": [
            "Epoch    0/20 Batch 1/3 Cost: 37210.574219 pred/y: (tensor([-30.8318, -24.8466]), tensor([185., 142.]))\n",
            "Epoch    0/20 Batch 2/3 Cost: 16463.394531 pred/y: (tensor([62.2911, 57.3268]), tensor([196., 180.]))\n",
            "Epoch    0/20 Batch 3/3 Cost: 2130.966309 pred/y: (tensor(105.8376), tensor(152.))\n",
            "Epoch    1/20 Batch 1/3 Cost: 1196.248047 pred/y: (tensor([121.8606, 141.4758]), tensor([152., 180.]))\n",
            "Epoch    1/20 Batch 2/3 Cost: 607.885376 pred/y: (tensor([117.8447, 170.8546]), tensor([142., 196.]))\n",
            "Epoch    1/20 Batch 3/3 Cost: 302.890442 pred/y: (tensor(167.5963), tensor(185.))\n",
            "Epoch    2/20 Batch 1/3 Cost: 45.500126 pred/y: (tensor([133.1681, 192.3949]), tensor([142., 196.]))\n",
            "Epoch    2/20 Batch 2/3 Cost: 19.989773 pred/y: (tensor([153.8985, 178.9688]), tensor([152., 185.]))\n",
            "Epoch    2/20 Batch 3/3 Cost: 0.266310 pred/y: (tensor(180.5161), tensor(180.))\n",
            "Epoch    3/20 Batch 1/3 Cost: 3.424530 pred/y: (tensor([196.1646, 154.6119]), tensor([196., 152.]))\n",
            "Epoch    3/20 Batch 2/3 Cost: 38.331135 pred/y: (tensor([135.4038, 179.2421]), tensor([142., 185.]))\n",
            "Epoch    3/20 Batch 3/3 Cost: 5.501321 pred/y: (tensor(182.3455), tensor(180.))\n",
            "Epoch    4/20 Batch 1/3 Cost: 1.433258 pred/y: (tensor([197.1889, 181.2054]), tensor([196., 180.]))\n",
            "Epoch    4/20 Batch 2/3 Cost: 28.980219 pred/y: (tensor([180.1714, 136.1140]), tensor([185., 142.]))\n",
            "Epoch    4/20 Batch 3/3 Cost: 23.308434 pred/y: (tensor(156.8279), tensor(152.))\n",
            "Epoch    5/20 Batch 1/3 Cost: 10.520474 pred/y: (tensor([196.8712, 180.4964]), tensor([196., 185.]))\n",
            "Epoch    5/20 Batch 2/3 Cost: 13.878951 pred/y: (tensor([181.7929, 137.0459]), tensor([180., 142.]))\n",
            "Epoch    5/20 Batch 3/3 Cost: 18.593840 pred/y: (tensor(156.3121), tensor(152.))\n",
            "Epoch    6/20 Batch 1/3 Cost: 29.622368 pred/y: (tensor([180.1007, 136.0636]), tensor([185., 142.]))\n",
            "Epoch    6/20 Batch 2/3 Cost: 8.460442 pred/y: (tensor([182.8427, 198.9732]), tensor([180., 196.]))\n",
            "Epoch    6/20 Batch 3/3 Cost: 12.447860 pred/y: (tensor(155.5282), tensor(152.))\n",
            "Epoch    7/20 Batch 1/3 Cost: 15.158208 pred/y: (tensor([179.9165, 179.4946]), tensor([180., 185.]))\n",
            "Epoch    7/20 Batch 2/3 Cost: 15.029005 pred/y: (tensor([197.2875, 136.6708]), tensor([196., 142.]))\n",
            "Epoch    7/20 Batch 3/3 Cost: 16.188663 pred/y: (tensor(156.0235), tensor(152.))\n",
            "Epoch    8/20 Batch 1/3 Cost: 22.005436 pred/y: (tensor([154.6270, 135.9082]), tensor([152., 142.]))\n",
            "Epoch    8/20 Batch 2/3 Cost: 10.459313 pred/y: (tensor([180.5097, 196.8696]), tensor([185., 196.]))\n",
            "Epoch    8/20 Batch 3/3 Cost: 3.193160 pred/y: (tensor(181.7869), tensor(180.))\n",
            "Epoch    9/20 Batch 1/3 Cost: 5.326753 pred/y: (tensor([155.1434, 196.8789]), tensor([152., 196.]))\n",
            "Epoch    9/20 Batch 2/3 Cost: 34.206059 pred/y: (tensor([179.6295, 135.7095]), tensor([185., 142.]))\n",
            "Epoch    9/20 Batch 3/3 Cost: 6.489759 pred/y: (tensor(182.5475), tensor(180.))\n",
            "Epoch   10/20 Batch 1/3 Cost: 14.927752 pred/y: (tensor([181.3093, 136.6952]), tensor([180., 142.]))\n",
            "Epoch   10/20 Batch 2/3 Cost: 10.264236 pred/y: (tensor([156.0431, 198.0449]), tensor([152., 196.]))\n",
            "Epoch   10/20 Batch 3/3 Cost: 22.840803 pred/y: (tensor(180.2208), tensor(185.))\n",
            "Epoch   11/20 Batch 1/3 Cost: 9.285964 pred/y: (tensor([199.1186, 182.9742]), tensor([196., 180.]))\n",
            "Epoch   11/20 Batch 2/3 Cost: 14.182501 pred/y: (tensor([181.0437, 155.5655]), tensor([185., 152.]))\n",
            "Epoch   11/20 Batch 3/3 Cost: 25.182674 pred/y: (tensor(136.9818), tensor(142.))\n",
            "Epoch   12/20 Batch 1/3 Cost: 12.642315 pred/y: (tensor([183.5569, 138.4457]), tensor([180., 142.]))\n",
            "Epoch   12/20 Batch 2/3 Cost: 8.240534 pred/y: (tensor([199.5400, 183.0126]), tensor([196., 185.]))\n",
            "Epoch   12/20 Batch 3/3 Cost: 23.208206 pred/y: (tensor(156.8175), tensor(152.))\n",
            "Epoch   13/20 Batch 1/3 Cost: 5.351597 pred/y: (tensor([155.1453, 196.9001]), tensor([152., 196.]))\n",
            "Epoch   13/20 Batch 2/3 Cost: 33.863327 pred/y: (tensor([135.7389, 179.6591]), tensor([142., 185.]))\n",
            "Epoch   13/20 Batch 3/3 Cost: 6.484629 pred/y: (tensor(182.5465), tensor(180.))\n",
            "Epoch   14/20 Batch 1/3 Cost: 14.822121 pred/y: (tensor([136.7150, 181.3087]), tensor([142., 180.]))\n",
            "Epoch   14/20 Batch 2/3 Cost: 7.782313 pred/y: (tensor([198.0421, 181.6245]), tensor([196., 185.]))\n",
            "Epoch   14/20 Batch 3/3 Cost: 18.253662 pred/y: (tensor(156.2724), tensor(152.))\n",
            "Epoch   15/20 Batch 1/3 Cost: 0.237765 pred/y: (tensor([196.4503, 180.5223]), tensor([196., 180.]))\n",
            "Epoch   15/20 Batch 2/3 Cost: 16.368322 pred/y: (tensor([154.5816, 179.8939]), tensor([152., 185.]))\n",
            "Epoch   15/20 Batch 3/3 Cost: 30.391155 pred/y: (tensor(136.4872), tensor(142.))\n",
            "Epoch   16/20 Batch 1/3 Cost: 7.286834 pred/y: (tensor([182.7423, 183.0784]), tensor([185., 180.]))\n",
            "Epoch   16/20 Batch 2/3 Cost: 19.645077 pred/y: (tensor([137.9479, 156.7823]), tensor([142., 152.]))\n",
            "Epoch   16/20 Batch 3/3 Cost: 7.765937 pred/y: (tensor(198.7867), tensor(196.))\n",
            "Epoch   17/20 Batch 1/3 Cost: 23.057938 pred/y: (tensor([180.8314, 136.6392]), tensor([185., 142.]))\n",
            "Epoch   17/20 Batch 2/3 Cost: 18.047241 pred/y: (tensor([183.2281, 157.0669]), tensor([180., 152.]))\n",
            "Epoch   17/20 Batch 3/3 Cost: 1.990607 pred/y: (tensor(197.4109), tensor(196.))\n",
            "Epoch   18/20 Batch 1/3 Cost: 15.271704 pred/y: (tensor([180.2918, 154.8942]), tensor([185., 152.]))\n",
            "Epoch   18/20 Batch 2/3 Cost: 1.486597 pred/y: (tensor([197.2151, 181.2234]), tensor([196., 180.]))\n",
            "Epoch   18/20 Batch 3/3 Cost: 33.744904 pred/y: (tensor(136.1910), tensor(142.))\n",
            "Epoch   19/20 Batch 1/3 Cost: 11.688018 pred/y: (tensor([137.8856, 182.4608]), tensor([142., 185.]))\n",
            "Epoch   19/20 Batch 2/3 Cost: 18.650589 pred/y: (tensor([184.1890, 200.4445]), tensor([180., 196.]))\n",
            "Epoch   19/20 Batch 3/3 Cost: 16.152462 pred/y: (tensor(156.0190), tensor(152.))\n",
            "Epoch   20/20 Batch 1/3 Cost: 12.638277 pred/y: (tensor([180.3447, 179.9843]), tensor([180., 185.]))\n",
            "Epoch   20/20 Batch 2/3 Cost: 7.614962 pred/y: (tensor([155.5968, 197.5143]), tensor([152., 196.]))\n",
            "Epoch   20/20 Batch 3/3 Cost: 35.864082 pred/y: (tensor(136.0113), tensor(142.))\n"
          ],
          "name": "stdout"
        }
      ]
    }
  ]
}